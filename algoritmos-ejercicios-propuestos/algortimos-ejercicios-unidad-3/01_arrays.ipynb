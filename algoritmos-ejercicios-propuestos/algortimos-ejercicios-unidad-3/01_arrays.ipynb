{
  "cells": [
    {
      "cell_type": "markdown",
      "metadata": {
        "id": "YhgYSUjubysf"
      },
      "source": [
        "### **importado librerías**"
      ]
    },
    {
      "cell_type": "code",
      "execution_count": 1,
      "metadata": {
        "id": "xQYeRXG5bLep"
      },
      "outputs": [],
      "source": [
        "import numpy as np #el np es un alias del nombre de la biblioteca numpy\n",
        "import sys\n",
        "\n"
      ]
    },
    {
      "cell_type": "code",
      "execution_count": 2,
      "metadata": {
        "colab": {
          "base_uri": "https://localhost:8080/"
        },
        "id": "3vPWZTo4alcO",
        "outputId": "d5d3f985-06f2-475b-f44f-0d2ab06b60f0"
      },
      "outputs": [
        {
          "name": "stdout",
          "output_type": "stream",
          "text": [
            "hello world!\n"
          ]
        }
      ],
      "source": [
        "print('hello world!')"
      ]
    },
    {
      "cell_type": "markdown",
      "metadata": {
        "id": "PtsbPUZ0r7ZJ"
      },
      "source": [
        "### creando una lista de diez elementos"
      ]
    },
    {
      "cell_type": "code",
      "execution_count": 3,
      "metadata": {
        "colab": {
          "base_uri": "https://localhost:8080/"
        },
        "id": "IvUzDq6EhYp_",
        "outputId": "9ebab2c5-f8c7-4492-aa33-882a45d4465e"
      },
      "outputs": [
        {
          "data": {
            "text/plain": [
              "[1, 2, 3, 4, 5, 6, 7, 8, 9, 10]"
            ]
          },
          "execution_count": 3,
          "metadata": {},
          "output_type": "execute_result"
        }
      ],
      "source": [
        "lista1 = list(range(1, 11))\n",
        "lista1\n"
      ]
    },
    {
      "cell_type": "markdown",
      "metadata": {
        "id": "q1MhOqRjut4f"
      },
      "source": []
    },
    {
      "cell_type": "code",
      "execution_count": 4,
      "metadata": {
        "colab": {
          "base_uri": "https://localhost:8080/"
        },
        "id": "ircyKTfzudsk",
        "outputId": "127c03b9-3a66-4efa-b958-1feae46e1839"
      },
      "outputs": [
        {
          "data": {
            "text/plain": [
              "list"
            ]
          },
          "execution_count": 4,
          "metadata": {},
          "output_type": "execute_result"
        }
      ],
      "source": [
        "type(lista1)"
      ]
    },
    {
      "cell_type": "markdown",
      "metadata": {
        "id": "Ee5uLu5vqpHX"
      },
      "source": [
        "###transformando una lista a un Array"
      ]
    },
    {
      "cell_type": "code",
      "execution_count": 5,
      "metadata": {
        "colab": {
          "base_uri": "https://localhost:8080/"
        },
        "id": "B9n1GbGhhtDk",
        "outputId": "96a4ec8e-f2ad-4234-c383-a0f741b7a1cb"
      },
      "outputs": [
        {
          "data": {
            "text/plain": [
              "array([ 1,  2,  3,  4,  5,  6,  7,  8,  9, 10])"
            ]
          },
          "execution_count": 5,
          "metadata": {},
          "output_type": "execute_result"
        }
      ],
      "source": [
        "arreglo = np.array(lista1)\n",
        "arreglo"
      ]
    },
    {
      "cell_type": "markdown",
      "metadata": {
        "id": "a4uv3wd8uFVx"
      },
      "source": [
        "### consutando el tipo de dato numerico del arreglo"
      ]
    },
    {
      "cell_type": "code",
      "execution_count": 6,
      "metadata": {
        "colab": {
          "base_uri": "https://localhost:8080/"
        },
        "id": "laGYJ4jht-m8",
        "outputId": "c6ddf777-6024-496b-8cb2-65b97c497300"
      },
      "outputs": [
        {
          "data": {
            "text/plain": [
              "dtype('int64')"
            ]
          },
          "execution_count": 6,
          "metadata": {},
          "output_type": "execute_result"
        }
      ],
      "source": [
        "arreglo.dtype"
      ]
    },
    {
      "cell_type": "markdown",
      "metadata": {
        "id": "2OlexGl9q0pA"
      },
      "source": [
        "### creando una lista de solo numeros unos"
      ]
    },
    {
      "cell_type": "code",
      "execution_count": 7,
      "metadata": {
        "colab": {
          "base_uri": "https://localhost:8080/"
        },
        "id": "uTOFVvsCjXYz",
        "outputId": "b9799ff2-7441-45be-8f68-cf13187f555b"
      },
      "outputs": [
        {
          "data": {
            "text/plain": [
              "array([1., 1., 1., 1., 1., 1., 1., 1., 1., 1.])"
            ]
          },
          "execution_count": 7,
          "metadata": {},
          "output_type": "execute_result"
        }
      ],
      "source": [
        "unos = np.ones(10)\n",
        "unos"
      ]
    },
    {
      "cell_type": "code",
      "execution_count": 8,
      "metadata": {
        "colab": {
          "base_uri": "https://localhost:8080/"
        },
        "id": "V_USeSk5sydZ",
        "outputId": "63fe8154-8036-482c-d2c0-0d45e1146f80"
      },
      "outputs": [
        {
          "data": {
            "text/plain": [
              "array([0., 0., 0., 0., 0., 0., 0., 0., 0., 0., 0., 0., 0., 0., 0., 0., 0.,\n",
              "       0., 0., 0., 0., 0., 0., 0., 0., 0., 0., 0., 0., 0., 0., 0., 0., 0.,\n",
              "       0., 0., 0., 0., 0., 0., 0., 0., 0., 0., 0., 0., 0., 0., 0., 0., 0.,\n",
              "       0., 0., 0., 0., 0., 0., 0., 0., 0., 0., 0., 0., 0., 0., 0., 0., 0.,\n",
              "       0., 0., 0., 0., 0., 0., 0., 0., 0., 0., 0., 0., 0., 0., 0., 0., 0.,\n",
              "       0., 0., 0., 0., 0., 0., 0., 0., 0., 0., 0., 0., 0., 0., 0.])"
            ]
          },
          "execution_count": 8,
          "metadata": {},
          "output_type": "execute_result"
        }
      ],
      "source": [
        "ceros = np.zeros(100)\n",
        "ceros"
      ]
    },
    {
      "cell_type": "markdown",
      "metadata": {
        "id": "4QjgC4Ulvoi2"
      },
      "source": [
        "### lista de datos compuestos (transformando a Array)"
      ]
    },
    {
      "cell_type": "code",
      "execution_count": 9,
      "metadata": {
        "colab": {
          "base_uri": "https://localhost:8080/"
        },
        "id": "t4PrlwA2vaNR",
        "outputId": "7b386fbb-2ec2-4e97-d454-db7d0ec6ade9"
      },
      "outputs": [
        {
          "data": {
            "text/plain": [
              "['yerko', 2, 5.6, True]"
            ]
          },
          "execution_count": 9,
          "metadata": {},
          "output_type": "execute_result"
        }
      ],
      "source": [
        "lista2 = ['yerko', 2, 5.6, True]\n",
        "lista2"
      ]
    },
    {
      "cell_type": "markdown",
      "metadata": {
        "id": "H11eV6pEy_uR"
      },
      "source": [
        "### transformando la lista mixta en array\n",
        "\n",
        "u32 hace referencia al estandar unicode"
      ]
    },
    {
      "cell_type": "code",
      "execution_count": 10,
      "metadata": {
        "id": "LbRk-rX8zFK9"
      },
      "outputs": [
        {
          "data": {
            "text/plain": [
              "array(['yerko', '2', '5.6', 'True'], dtype='<U32')"
            ]
          },
          "execution_count": 10,
          "metadata": {},
          "output_type": "execute_result"
        }
      ],
      "source": [
        "arreglo2 = np.array(lista2)\n",
        "arreglo2"
      ]
    },
    {
      "cell_type": "markdown",
      "metadata": {
        "id": "KgvtqtzQwS3k"
      },
      "source": [
        "### **consultando la cantidad de memoria ocupada por estructura (paquete Sys)**"
      ]
    },
    {
      "cell_type": "code",
      "execution_count": 11,
      "metadata": {
        "colab": {
          "base_uri": "https://localhost:8080/"
        },
        "id": "W-CxdUfWv3Xd",
        "outputId": "b82df7c9-bc7c-4a43-9c0b-0c27358d596c"
      },
      "outputs": [
        {
          "name": "stdout",
          "output_type": "stream",
          "text": [
            "\n"
          ]
        }
      ],
      "source": [
        "memoria_lista = sys.getsizeof(lista1)\n",
        "memoria_arreglo = sys.getsizeof(arreglo)\n",
        "\n",
        "print()"
      ]
    },
    {
      "cell_type": "markdown",
      "metadata": {
        "id": "iO2O20-kw6ib"
      },
      "source": [
        "### otros metodos de numpy"
      ]
    },
    {
      "cell_type": "code",
      "execution_count": 12,
      "metadata": {
        "colab": {
          "base_uri": "https://localhost:8080/"
        },
        "id": "QhL97s38w3y7",
        "outputId": "83370694-2841-421f-c06c-067a5d8f9863"
      },
      "outputs": [
        {
          "name": "stdout",
          "output_type": "stream",
          "text": [
            "Shape: (10,)\n",
            "dimensiones: (10,)\n",
            "Shape: (10,)\n",
            "Shape: (10,)\n"
          ]
        }
      ],
      "source": [
        "print(f'Shape:', arreglo.shape) #dimensiones\n",
        "print(f'dimensiones:', arreglo.shape) #dimensiones\n",
        "print(f'Shape:', arreglo.shape) #dimensiones\n",
        "print(f'Shape:', arreglo.shape) #dimensiones\n"
      ]
    },
    {
      "cell_type": "markdown",
      "metadata": {
        "id": "DiZwaLXhyT2K"
      },
      "source": [
        "### transformando el arreglo de int a float"
      ]
    },
    {
      "cell_type": "code",
      "execution_count": 13,
      "metadata": {
        "colab": {
          "base_uri": "https://localhost:8080/"
        },
        "id": "EFWcPF80ycHD",
        "outputId": "62b70f11-ffeb-4852-9e7a-826ccb1edb4c"
      },
      "outputs": [
        {
          "data": {
            "text/plain": [
              "array([ 1.,  2.,  3.,  4.,  5.,  6.,  7.,  8.,  9., 10.])"
            ]
          },
          "execution_count": 13,
          "metadata": {},
          "output_type": "execute_result"
        }
      ],
      "source": [
        "new_arreglo = arreglo.astype(float) #se puede especificar el tipo de N° flotante (float16)\n",
        "new_arreglo"
      ]
    },
    {
      "cell_type": "markdown",
      "metadata": {
        "id": "T7X5VRAq1RBe"
      },
      "source": [
        "### aplicando paquete random"
      ]
    },
    {
      "cell_type": "code",
      "execution_count": 23,
      "metadata": {
        "colab": {
          "base_uri": "https://localhost:8080/"
        },
        "id": "rfXvk8Qc1M7f",
        "outputId": "c69baf7a-3b36-4131-ccb9-047793924c55"
      },
      "outputs": [
        {
          "data": {
            "text/plain": [
              "0.18823801096925852"
            ]
          },
          "execution_count": 23,
          "metadata": {},
          "output_type": "execute_result"
        }
      ],
      "source": [
        "np.random.rand() #genera numeros aleatorios del rango [0, 1]"
      ]
    },
    {
      "cell_type": "markdown",
      "metadata": {},
      "source": [
        "#### generando arreglo aleatorio de numeros enteros"
      ]
    },
    {
      "cell_type": "code",
      "execution_count": 17,
      "metadata": {
        "colab": {
          "base_uri": "https://localhost:8080/"
        },
        "id": "LjR7Bowm1pcS",
        "outputId": "48abcc9e-0168-40d4-f519-6ede88d53c89"
      },
      "outputs": [
        {
          "data": {
            "text/plain": [
              "array([81, 77,  7, 41, 46, 13, 44,  2, 17, 27], dtype=int32)"
            ]
          },
          "execution_count": 17,
          "metadata": {},
          "output_type": "execute_result"
        }
      ],
      "source": [
        "np.random.randint(1, 100, 10)"
      ]
    },
    {
      "cell_type": "markdown",
      "metadata": {},
      "source": [
        "#### generando una matriz aleatoria de 10 numeros enteros del 1 al 100"
      ]
    },
    {
      "cell_type": "code",
      "execution_count": 30,
      "metadata": {},
      "outputs": [
        {
          "data": {
            "text/plain": [
              "array([[ 28,   4,  18,  88,  86,  61,  11,  51,  14,  32],\n",
              "       [ 28,  39,  61,  42,  91,  42,  76,  51,  43,  13],\n",
              "       [  9,  70,  29,  12,  41,  36,  77,  47,  52,  58],\n",
              "       [  8,  90,  35,  44,  11,  24,  16,   3,  54,  46],\n",
              "       [ 94,  28,   1,  96,  58,   8,  13,  77,  44,  58],\n",
              "       [ 44,  53,   5,  55,  44,  52,  73,  27,  82,  38],\n",
              "       [ 55,  60,  36,  83,   6,  56,  15,  17,  12,  57],\n",
              "       [ 33,  99,  66,  47,  66,  12,  90,  93,  92,  40],\n",
              "       [ 67,   7,   4,  43,  56,  83, 100,   3,  22,  49],\n",
              "       [ 85,  73,  38,  79,  11,  94,  52,  94,  73,  58]], dtype=int32)"
            ]
          },
          "execution_count": 30,
          "metadata": {},
          "output_type": "execute_result"
        }
      ],
      "source": [
        "matriz2 = np.random.randint(1, 101,(10,10))\n",
        "matriz2"
      ]
    }
  ],
  "metadata": {
    "colab": {
      "provenance": []
    },
    "kernelspec": {
      "display_name": "Python 3",
      "name": "python3"
    },
    "language_info": {
      "codemirror_mode": {
        "name": "ipython",
        "version": 3
      },
      "file_extension": ".py",
      "mimetype": "text/x-python",
      "name": "python",
      "nbconvert_exporter": "python",
      "pygments_lexer": "ipython3",
      "version": "3.13.3"
    }
  },
  "nbformat": 4,
  "nbformat_minor": 0
}
