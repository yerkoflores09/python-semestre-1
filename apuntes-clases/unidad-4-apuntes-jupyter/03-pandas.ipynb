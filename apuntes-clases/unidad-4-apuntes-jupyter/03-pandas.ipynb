{
 "cells": [
  {
   "cell_type": "code",
   "execution_count": 1,
   "metadata": {
    "executionInfo": {
     "elapsed": 44,
     "status": "ok",
     "timestamp": 1751299685343,
     "user": {
      "displayName": "Yerko Flores",
      "userId": "12471493438545315809"
     },
     "user_tz": 240
    },
    "id": "1_mluEhRTkXk"
   },
   "outputs": [],
   "source": [
    "import pandas as pd\n",
    "import numpy as np\n",
    "import matplotlib.pyplot as plt"
   ]
  },
  {
   "cell_type": "markdown",
   "metadata": {
    "id": "gTSrfGMJenZ7"
   },
   "source": [
    "#### motando unidad de google drive"
   ]
  },
  {
   "cell_type": "code",
   "execution_count": 42,
   "metadata": {
    "colab": {
     "base_uri": "https://localhost:8080/"
    },
    "executionInfo": {
     "elapsed": 2022,
     "status": "ok",
     "timestamp": 1751299687364,
     "user": {
      "displayName": "Yerko Flores",
      "userId": "12471493438545315809"
     },
     "user_tz": 240
    },
    "id": "q1tAG1x2eeiU",
    "outputId": "c7e07b63-cf7b-4e9d-d488-9195d154455b"
   },
   "outputs": [
    {
     "name": "stdout",
     "output_type": "stream",
     "text": [
      "Drive already mounted at /content/drive; to attempt to forcibly remount, call drive.mount(\"/content/drive\", force_remount=True).\n"
     ]
    }
   ],
   "source": [
    "from google.colab import drive\n",
    "drive.mount('/content/drive')"
   ]
  },
  {
   "cell_type": "markdown",
   "metadata": {
    "id": "_AOOo_Hrg3SU"
   },
   "source": [
    "#### ruta del dataset"
   ]
  },
  {
   "cell_type": "code",
   "execution_count": 43,
   "metadata": {
    "executionInfo": {
     "elapsed": 6,
     "status": "ok",
     "timestamp": 1751299687376,
     "user": {
      "displayName": "Yerko Flores",
      "userId": "12471493438545315809"
     },
     "user_tz": 240
    },
    "id": "K-YtmdFKfP64"
   },
   "outputs": [],
   "source": [
    "ruta = '/content/drive/mydrive/programacion/games.csv'\n"
   ]
  },
  {
   "cell_type": "code",
   "execution_count": 1,
   "metadata": {
    "colab": {
     "base_uri": "https://localhost:8080/",
     "height": 159
    },
    "executionInfo": {
     "elapsed": 174,
     "status": "error",
     "timestamp": 1751317662640,
     "user": {
      "displayName": "Yerko Flores",
      "userId": "12471493438545315809"
     },
     "user_tz": 240
    },
    "id": "faH_ajcrg5U9",
    "outputId": "ef73ac85-3aee-48ea-a47d-190dc89e6864"
   },
   "outputs": [
    {
     "ename": "NameError",
     "evalue": "name 'pd' is not defined",
     "output_type": "error",
     "traceback": [
      "\u001b[0;31m---------------------------------------------------------------------------\u001b[0m",
      "\u001b[0;31mNameError\u001b[0m                                 Traceback (most recent call last)",
      "\u001b[0;32m/tmp/ipython-input-1-219425144.py\u001b[0m in \u001b[0;36m<cell line: 0>\u001b[0;34m()\u001b[0m\n\u001b[0;32m----> 1\u001b[0;31m \u001b[0mdatos\u001b[0m \u001b[0;34m=\u001b[0m \u001b[0mpd\u001b[0m\u001b[0;34m.\u001b[0m\u001b[0mread_csv\u001b[0m\u001b[0;34m(\u001b[0m\u001b[0mruta\u001b[0m\u001b[0;34m,\u001b[0m \u001b[0mindex_col\u001b[0m\u001b[0;34m=\u001b[0m\u001b[0;34m'Id'\u001b[0m\u001b[0;34m)\u001b[0m\u001b[0;34m\u001b[0m\u001b[0;34m\u001b[0m\u001b[0m\n\u001b[0m\u001b[1;32m      2\u001b[0m \u001b[0mdatos\u001b[0m\u001b[0;34m\u001b[0m\u001b[0;34m\u001b[0m\u001b[0m\n",
      "\u001b[0;31mNameError\u001b[0m: name 'pd' is not defined"
     ]
    }
   ],
   "source": [
    "datos = pd.read_csv(ruta, index_col='Id')\n",
    "datos"
   ]
  },
  {
   "cell_type": "code",
   "execution_count": null,
   "metadata": {
    "executionInfo": {
     "elapsed": 2224,
     "status": "aborted",
     "timestamp": 1751299687400,
     "user": {
      "displayName": "Yerko Flores",
      "userId": "12471493438545315809"
     },
     "user_tz": 240
    },
    "id": "g9K2AOzrhF5m"
   },
   "outputs": [],
   "source": [
    "datos.head()"
   ]
  }
 ],
 "metadata": {
  "colab": {
   "authorship_tag": "ABX9TyO3FFH2q7OE4JtiY9m4cWxD",
   "provenance": []
  },
  "kernelspec": {
   "display_name": "Python 3",
   "name": "python3"
  },
  "language_info": {
   "codemirror_mode": {
    "name": "ipython",
    "version": 3
   },
   "file_extension": ".py",
   "mimetype": "text/x-python",
   "name": "python",
   "nbconvert_exporter": "python",
   "pygments_lexer": "ipython3",
   "version": "3.13.3"
  }
 },
 "nbformat": 4,
 "nbformat_minor": 0
}
